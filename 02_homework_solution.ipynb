{
 "cells": [
  {
   "cell_type": "markdown",
   "metadata": {},
   "source": [
    "## Exercise 2 HW: Introduction to Pytorch\n",
    "\n",
    "As the first step, we need to install a suitable version of pytorch.\n",
    "Go to https://pytorch.org/ and scroll down to the install section.\n",
    "Pick the version fitting for your system and install it.\n",
    "For example, if you do not have a GPU and you run Windows as your operating system:\n",
    "```\n",
    "conda activate idl23\n",
    "conda install pytorch torchvision torchaudio cpuonly -c pytorch\n",
    "```\n",
    "\n",
    "You might need to separately install CUDA on your system if you want to use an NVIDIA GPU of your own computer.\n",
    "\n",
    "\n",
    "\n",
    "Alternatively, you can use [Google Colab](https://colab.research.google.com/). \n",
    "This is a free service by Google that allows you to run Jupyter notebooks in their cloud. \n",
    "You can get GPU access by changing your runtime in top bar.\n",
    "Their default environment has most standard packages installed, including pytorch."
   ]
  },
  {
   "cell_type": "markdown",
   "metadata": {},
   "source": [
    "## Polynomial Regression\n",
    "\n",
    "Polynomial regression is slight more complex than linear regression.\n",
    "Instead of just modeling the outcome as a linear combination of the features, polynomial regression models the output as a linear combination of polynomials of features.\n",
    "In the case of a single feature, i.e., inputs $x \\in \\R$, the model is defined as:\n",
    "$$f(x,w) = w_0 + w_1 x + w_2 x^2 + w_3 x^3 + \\dots + w_q x^q.$$\n",
    "\n",
    "In the more general case, where $x \\in \\R^p$, the model is defined as:\n",
    "$$f(x,w) = w_0 + w_{11} x_1 + w_{12} x_1^2 + \\dots + w_{1q} x_1^q + w_{21} x_2 + w_{22} x_2^2 + \\dots + w_{2q} x_2^q + \\dots = w_0 + \\sum_{i=1}^p \\sum_{j=1}^q w_{ij} x_i^j.$$\n",
    "\n",
    "In this task, you implement a polynomial regression model in Pytorch and study the effects of the allowed complexity of the model on the quality of the fit to data.\n"
   ]
  },
  {
   "cell_type": "markdown",
   "metadata": {},
   "source": [
    "1. Import pytorch and matplotlib.pyplot. The second library is commonly imported with the alias plt."
   ]
  },
  {
   "cell_type": "code",
   "execution_count": 4,
   "metadata": {
    "ExecuteTime": {
     "end_time": "2023-11-07T13:00:33.661297900Z",
     "start_time": "2023-11-07T12:59:45.809255700Z"
    }
   },
   "outputs": [],
   "source": [
    "import torch\n",
    "import matplotlib.pyplot as plt\n"
   ]
  },
  {
   "cell_type": "markdown",
   "metadata": {},
   "source": [
    "This cell defines synthetic data that your model will have to fit. The ground truth labels will follow a polynomial of degree 3."
   ]
  },
  {
   "cell_type": "code",
   "execution_count": 5,
   "metadata": {
    "ExecuteTime": {
     "end_time": "2023-11-07T13:00:34.099183500Z",
     "start_time": "2023-11-07T13:00:33.669550Z"
    }
   },
   "outputs": [
    {
     "data": {
      "text/plain": "<matplotlib.collections.PathCollection at 0x22490ce8b80>"
     },
     "execution_count": 5,
     "metadata": {},
     "output_type": "execute_result"
    },
    {
     "data": {
      "text/plain": "<Figure size 640x480 with 1 Axes>",
      "image/png": "[encoded data removed]"
     },
     "metadata": {},
     "output_type": "display_data"
    }
   ],
   "source": [
    "torch.manual_seed(123)\n",
    "torch.use_deterministic_algorithms(True)\n",
    "if torch.cuda.is_available():\n",
    "    torch.backends.cudnn.benchmark = False\n",
    "\n",
    "n_points = 10\n",
    "\n",
    "def make_targets(x):\n",
    "    return x + 0.5 * x**2 - 0.25 * x**3 + 0.4 * torch.randn_like(x)\n",
    "\n",
    "x = torch.linspace(-2, 3, n_points).reshape(-1, 1)\n",
    "y = make_targets(x)\n",
    "\n",
    "x_val = torch.linspace(-2, 3, 25).reshape(-1, 1) + 0.1 * torch.randn((25, 1))\n",
    "y_val = make_targets(x_val)\n",
    "\n",
    "plt.scatter(x, y)\n",
    "plt.scatter(x_val, y_val)"
   ]
  },
  {
   "cell_type": "markdown",
   "metadata": {},
   "source": [
    "2. Implement a one-dimensional polynomial regression model.\n",
    "    1. Create a class that inherits from `torch.nn.Module`\n",
    "    2. Create the `__init__` method. What is necessary to call inside that method for classes that inherit from `Module`? The method should have an integer argument that specifies the degree of the polynomial that will be fitted. The weights can be created with an `nn.Linear` layer, but you can also look at different approaches like using `nn.parameter.Parameter`.\n",
    "    3. Create the forward method. It should implement the first equation of this notebook: $$f(x,w) = w_0 + w_1 x + w_2 x^2 + w_3 x^3 + \\dots + w_q x^q.$$\n",
    "\n",
    "\n",
    "Hint 1: torch.pow can be used to take a value to some power.\n",
    "\n",
    "Hint 2: Pytorch documentation can help you if you are stuck.\n"
   ]
  },
  {
   "cell_type": "code",
   "execution_count": 6,
   "metadata": {
    "ExecuteTime": {
     "end_time": "2023-11-07T13:00:34.121525900Z",
     "start_time": "2023-11-07T13:00:34.101218200Z"
    }
   },
   "outputs": [],
   "source": [
    "class PolyRegression(torch.nn.Module):\n",
    "    def __init__(self, poly_degree: int):\n",
    "        super().__init__()\n",
    "\n",
    "        self.max_degree = poly_degree\n",
    "        self.linear = torch.nn.Linear(self.max_degree, 1, bias=True)\n",
    "\n",
    "    def forward(self, x):\n",
    "        exponentiated_features = torch.concat(\n",
    "            [torch.pow(x, exponent) for exponent in range(1, self.max_degree + 1)],\n",
    "            dim=1,\n",
    "        )\n",
    "        return self.linear(exponentiated_features)\n",
    "\n",
    "\n",
    "# Test that your models works\n",
    "model = PolyRegression(3)\n",
    "out = model(x)"
   ]
  },
  {
   "cell_type": "markdown",
   "metadata": {},
   "source": [
    "3. Complete the following function that implements the training loop. It should implement the five general training steps."
   ]
  },
  {
   "cell_type": "code",
   "execution_count": 7,
   "metadata": {
    "ExecuteTime": {
     "end_time": "2023-11-07T13:00:34.239428600Z",
     "start_time": "2023-11-07T13:00:34.133635300Z"
    }
   },
   "outputs": [],
   "source": [
    "def train_one_epoch(x, y, model, optimizer, loss_func):\n",
    "    output = model(x)  # Step 1: forward pass\n",
    "    loss = loss_func(output, y)  # Step 2: Compute loss\n",
    "    optimizer.zero_grad()  # Step 3: Zero all .grad attributes\n",
    "    loss.backward()  # Step 4: Compute gradients (populate .grad attributes)\n",
    "    optimizer.step()  # Step 5: Update parameters based on gradients\n",
    "    return loss.item()"
   ]
  },
  {
   "cell_type": "markdown",
   "metadata": {},
   "source": [
    "4. Complete the following function that implements validation. Use the `torch.no_grad` function decorator or the `torch.no_grad` context manager inside this function to avoid making computations relevant for the gradient computation."
   ]
  },
  {
   "cell_type": "code",
   "execution_count": 8,
   "metadata": {
    "ExecuteTime": {
     "end_time": "2023-11-07T13:00:34.239428600Z",
     "start_time": "2023-11-07T13:00:34.149650900Z"
    }
   },
   "outputs": [],
   "source": [
    "@torch.no_grad()\n",
    "def eval(x, y, model, loss_func):\n",
    "    output = model(x)\n",
    "    loss = loss_func(output, y)\n",
    "    return loss.item()"
   ]
  },
  {
   "cell_type": "markdown",
   "metadata": {},
   "source": [
    "5. Combine the above functions to train a polynomial regression model with degree 3. The cell should instantiate a model, optimizer, and loss function, then iterate `n_epochs` many times over data to optimize the model. To ease optimization, use the `torch.optim.Adam` optimizer with `lr=5e-3`. To see whether you are overfitting, you can check the validation loss on `x_val, y_val` from time to time.\n",
    "\n",
    "6. Name three hyperparameters you use in your code. *Solution*: Learning rate, degree of the polynomial, number of epochs."
   ]
  },
  {
   "cell_type": "code",
   "execution_count": 9,
   "metadata": {
    "ExecuteTime": {
     "end_time": "2023-11-07T13:00:41.333025900Z",
     "start_time": "2023-11-07T13:00:34.173649Z"
    }
   },
   "outputs": [
    {
     "name": "stdout",
     "output_type": "stream",
     "text": [
      "epoch=0: train_loss=2.6442599296569824 val_loss=3.021416664123535\n",
      "epoch=500: train_loss=0.5634238719940186 val_loss=0.7161001563072205\n",
      "epoch=1000: train_loss=0.5629803538322449 val_loss=0.7103753089904785\n",
      "epoch=1500: train_loss=0.5629803538322449 val_loss=0.7103606462478638\n",
      "epoch=2000: train_loss=0.5629803538322449 val_loss=0.7103606462478638\n",
      "epoch=2500: train_loss=0.5629802942276001 val_loss=0.710360586643219\n",
      "epoch=3000: train_loss=0.5629802942276001 val_loss=0.710360586643219\n",
      "epoch=3500: train_loss=0.5629802942276001 val_loss=0.710360586643219\n",
      "epoch=4000: train_loss=0.5629802942276001 val_loss=0.710360586643219\n",
      "epoch=4500: train_loss=0.5629802942276001 val_loss=0.710360586643219\n",
      "epoch=5000: train_loss=0.5629802942276001 val_loss=0.7103604674339294\n"
     ]
    }
   ],
   "source": [
    "torch.manual_seed(123)  # fixes initialization of parameters\n",
    "\n",
    "model = PolyRegression(2)\n",
    "optimizer = torch.optim.Adam(model.parameters(), lr=5e-3)\n",
    "loss_func = torch.nn.MSELoss()\n",
    "\n",
    "n_epochs = 5_000\n",
    "print_every_n_epochs = 500\n",
    "for epoch in range(n_epochs + 1):\n",
    "    train_loss = train_one_epoch(x, y, model, optimizer, loss_func)\n",
    "\n",
    "    if epoch % print_every_n_epochs == 0:\n",
    "        val_loss = eval(x_val, y_val, model, loss_func)\n",
    "        print(f\"{epoch=}: train_loss={train_loss} val_loss={val_loss}\")\n"
   ]
  },
  {
   "cell_type": "markdown",
   "metadata": {},
   "source": [
    "7. Visualize the resulting model with the following cell."
   ]
  },
  {
   "cell_type": "code",
   "execution_count": 10,
   "metadata": {
    "ExecuteTime": {
     "end_time": "2023-11-07T13:00:41.772463300Z",
     "start_time": "2023-11-07T13:00:41.332011100Z"
    }
   },
   "outputs": [
    {
     "data": {
      "text/plain": "<matplotlib.legend.Legend at 0x22490d217c0>"
     },
     "execution_count": 10,
     "metadata": {},
     "output_type": "execute_result"
    },
    {
     "data": {
      "text/plain": "<Figure size 640x480 with 1 Axes>",
      "image/png": "[encoded data removed]"
     },
     "metadata": {},
     "output_type": "display_data"
    }
   ],
   "source": [
    "fig, ax = plt.subplots()\n",
    "ax.scatter(x.view(-1), y.view(-1), color=\"blue\", label=\"Training data\")\n",
    "ax.scatter(x_val.view(-1), y_val.view(-1), color=\"orange\", label=\"Validation data\")\n",
    "\n",
    "with torch.no_grad():\n",
    "    x_plot = torch.linspace(x.min().item(), x.max().item(), 100).view(-1, 1)\n",
    "    pred_plot = model(x_plot)\n",
    "    ax.plot(x_plot, pred_plot, label=\"Model prediction\", color=\"red\")\n",
    "\n",
    "ax.legend()"
   ]
  },
  {
   "cell_type": "markdown",
   "metadata": {},
   "source": [
    "8. Revisit the model training.\n",
    "    1. Try to train a model with much higher degree of the polynomial. You may need to change the number of epochs and the learning rate of the optimizer. How does the fit compare to the fit of the model with order 3? *Solution*: If the optimization converges (which is not a given with the default hyperparameters---lower learning rate and higher number of epochs may be necessary), the model will fit the training data closely, but not necessarily other data that is drawn from the same distribution (In our case: different random noise). There is a high risk of overfitting.\n",
    "    2. What happens if you train a model with degree 1 or 2? Are you over or underfitting; why? *Solution*: Because the true function of the data follows a higher order polynomial, the model will not be able to fit the data well. It is underfitting.\n",
    "\n",
    "9. How would you classify this task in the scheme of slide 6 in deck 2? *Solution*: It is a supervised regression problem."
   ]
  },
  {
   "cell_type": "code",
   "execution_count": 10,
   "metadata": {
    "ExecuteTime": {
     "end_time": "2023-11-07T13:00:41.892642700Z",
     "start_time": "2023-11-07T13:00:41.780208200Z"
    }
   },
   "outputs": [],
   "source": []
  }
 ],
 "metadata": {
  "kernelspec": {
   "display_name": "idl21",
   "language": "python",
   "name": "python3"
  },
  "language_info": {
   "codemirror_mode": {
    "name": "ipython",
    "version": 3
   },
   "file_extension": ".py",
   "mimetype": "text/x-python",
   "name": "python",
   "nbconvert_exporter": "python",
   "pygments_lexer": "ipython3",
   "version": "3.9.7"
  }
 },
 "nbformat": 4,
 "nbformat_minor": 2
}
