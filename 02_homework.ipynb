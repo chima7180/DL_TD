{
 "cells": [
  {
   "cell_type": "markdown",
   "metadata": {},
   "source": [
    "## Exercise 2 HW: Introduction to Pytorch\n",
    "\n",
    "As the first step, we need to install a suitable version of pytorch.\n",
    "Go to https://pytorch.org/ and scroll down to the install section.\n",
    "Pick the version fitting for your system and install it.\n",
    "For example, if you do not have a GPU and you run Windows as your operating system:\n",
    "```\n",
    "conda activate idl23\n",
    "conda install pytorch torchvision torchaudio cpuonly -c pytorch\n",
    "```\n",
    "\n",
    "Alternatively, you can use [Google Colab](https://colab.research.google.com/). \n",
    "This is a free service by Google that allows you to run Jupyter notebooks in their cloud. \n",
    "You can get GPU access by changing your runtime in top bar.\n",
    "Their default environment has most standard packages installed, including pytorch."
   ]
  },
  {
   "cell_type": "markdown",
   "metadata": {},
   "source": [
    "## Polynomial Regression\n",
    "\n",
    "Polynomial regression is slight more complex than linear regression.\n",
    "Instead of just modeling the outcome as a linear combination of the features, polynomial regression models the output as a linear combination of polynomials of features.\n",
    "In the case of a single feature, i.e., inputs $x \\in \\R$, the model is defined as:\n",
    "$$f(x,w) = w_0 + w_1 x + w_2 x^2 + w_3 x^3 + \\dots + w_q x^q.$$\n",
    "\n",
    "In the more general case, where $x \\in \\R^p$, the model is defined as:\n",
    "$$f(x,w) = w_0 + w_{11} x_1 + w_{12} x_1^2 + \\dots + w_{1q} x_1^q + w_{21} x_2 + w_{22} x_2^2 + \\dots + w_{2q} x_2^q + \\dots = w_0 + \\sum_{i=1}^p \\sum_{j=1}^q w_{ij} x_i^j.$$\n",
    "\n",
    "In this task, you implement a polynomial regression model in Pytorch and study the effects of the allowed complexity of the model on the quality of the fit to data.\n"
   ]
  },
  {
   "cell_type": "markdown",
   "metadata": {},
   "source": [
    "1. Import pytorch and matplotlib.pyplot. The second library is commonly imported with the alias plt."
   ]
  },
  {
   "cell_type": "code",
   "execution_count": 118,
   "metadata": {
    "ExecuteTime": {
     "end_time": "2023-11-02T09:36:56.240934900Z",
     "start_time": "2023-11-02T09:36:56.209870600Z"
    }
   },
   "outputs": [],
   "source": [
    "import torch\n",
    "import torch.nn as nn\n",
    "import torch.optim as optim\n",
    "import matplotlib.pyplot as plt"
   ]
  },
  {
   "cell_type": "markdown",
   "metadata": {},
   "source": [
    "This cell defines synthetic data that your model will have to fit. The ground truth labels will follow a polynomial of degree 3."
   ]
  },
  {
   "cell_type": "code",
   "execution_count": 119,
   "metadata": {
    "ExecuteTime": {
     "end_time": "2023-11-02T09:36:56.383446700Z",
     "start_time": "2023-11-02T09:36:56.215877800Z"
    }
   },
   "outputs": [
    {
     "data": {
      "text/plain": "<matplotlib.collections.PathCollection at 0x1f39cb44ee0>"
     },
     "execution_count": 119,
     "metadata": {},
     "output_type": "execute_result"
    },
    {
     "data": {
      "text/plain": "<Figure size 640x480 with 1 Axes>",
      "image/png": "[encoded data removed]"
     },
     "metadata": {},
     "output_type": "display_data"
    }
   ],
   "source": [
    "torch.manual_seed(123)\n",
    "torch.use_deterministic_algorithms(True)\n",
    "if torch.cuda.is_available():\n",
    "    torch.backends.cudnn.benchmark = False\n",
    "\n",
    "n_points = 10\n",
    "\n",
    "def make_targets(x):\n",
    "    return x + 0.5 * x**2 - 0.25 * x**3 + 0.4 * torch.randn_like(x)\n",
    "\n",
    "x = torch.linspace(-2, 3, n_points).reshape(-1, 1)\n",
    "y = make_targets(x)\n",
    "\n",
    "x_val = torch.linspace(-2, 3, 25).reshape(-1, 1) + 0.1 * torch.randn((25, 1))\n",
    "y_val = make_targets(x_val)\n",
    "\n",
    "plt.scatter(x, y)\n",
    "plt.scatter(x_val, y_val)"
   ]
  },
  {
   "cell_type": "markdown",
   "source": [
    "2. Implement a one-dimensional polynomial regression model.\n",
    "    1. Create a class `PolyRegression` that inherits from `torch.nn.Module`.\n",
    "    2. Create the `__init__` method. What is necessary to call inside that method for classes that inherit from `Module`? The method should have an integer argument that specifies the degree of the polynomial that will be fitted. The weights can be created with an `nn.Linear` layer, but you can also look at different approaches like using `nn.parameter.Parameter`.\n",
    "    3. Create the forward method. It should implement the first equation of this notebook: $$f(x,w) = w_0 + w_1 x + w_2 x^2 + w_3 x^3 + \\dots + w_q x^q.$$\n",
    "\n",
    "\n",
    "Hint 1: torch.pow can be used to take a value to some power.\n",
    "\n",
    "Hint 2: Pytorch documentation can help you if you are stuck."
   ],
   "metadata": {
    "collapsed": false
   }
  },
  {
   "cell_type": "code",
   "execution_count": 120,
   "metadata": {
    "ExecuteTime": {
     "end_time": "2023-11-02T09:36:56.473293Z",
     "start_time": "2023-11-02T09:36:56.386448300Z"
    }
   },
   "outputs": [
    {
     "name": "stdout",
     "output_type": "stream",
     "text": [
      "tensor([[-0.4455],\n",
      "        [-1.9732],\n",
      "        [-5.2707]], grad_fn=<SumBackward1>)\n"
     ]
    }
   ],
   "source": [
    "class PolyRegression(torch.nn.Module):\n",
    "    def __init__(self, degree):\n",
    "        super(PolyRegression, self).__init__()\n",
    "        self.degree = degree\n",
    "        self.weights = torch.nn.Linear(degree + 1, 1)\n",
    "\n",
    "    def forward(self, x):\n",
    "        # Generate the polynomial features\n",
    "        powers = torch.arange(self.degree + 1, dtype=torch.float32, device=x.device)\n",
    "        x_powers = x ** powers.view(1, -1)\n",
    "\n",
    "        # Compute the polynomial function\n",
    "        y_pred = torch.sum(self.weights(x_powers), dim=1, keepdim=True)\n",
    "        \n",
    "        return y_pred\n",
    "\n",
    "# Create a PolyRegression model with a polynomial degree of 3\n",
    "model = PolyRegression(3)\n",
    "\n",
    "# Generate input data 'x' (assuming 'x' is a tensor with the shape you expect)\n",
    "x = torch.tensor([1.0, 2.0, 3.0]).reshape(-1, 1)\n",
    "\n",
    "# Pass the input data through the model\n",
    "out = model(x)\n",
    "\n",
    "# Print the output\n",
    "print(out)\n",
    "\n"
   ]
  },
  {
   "cell_type": "markdown",
   "metadata": {},
   "source": [
    "3. Complete the following function that implements the training loop. It should implement the five general training steps."
   ]
  },
  {
   "cell_type": "code",
   "execution_count": 121,
   "metadata": {
    "ExecuteTime": {
     "end_time": "2023-11-02T09:36:56.483789100Z",
     "start_time": "2023-11-02T09:36:56.399478700Z"
    }
   },
   "outputs": [],
   "source": [
    "def train_one_epoch(x, y, model, optimizer, loss_func):\n",
    "    # Set the model in training mode\n",
    "    model.train()\n",
    "    \n",
    "    # Forward pass\n",
    "    predictions = model(x)\n",
    "    \n",
    "    # Calculate the loss\n",
    "    loss = loss_func(predictions, y)\n",
    "    \n",
    "    # Backpropagation\n",
    "    optimizer.zero_grad()\n",
    "    loss.backward()\n",
    "    \n",
    "    # Update model parameters\n",
    "    optimizer.step()\n",
    "    \n",
    "    return loss.item()  # Return the current loss as a float\n"
   ]
  },
  {
   "cell_type": "markdown",
   "metadata": {},
   "source": [
    "4. Complete the following function that implements validation. Use the `torch.no_grad` function decorator or the `torch.no_grad` context manager inside this function to avoid making computations relevant for the gradient computation."
   ]
  },
  {
   "cell_type": "code",
   "execution_count": 122,
   "metadata": {
    "ExecuteTime": {
     "end_time": "2023-11-02T09:36:56.483789100Z",
     "start_time": "2023-11-02T09:36:56.416002Z"
    }
   },
   "outputs": [],
   "source": [
    "def eval(x, y, model, loss_func):\n",
    "    # Set the model in evaluation mode\n",
    "    model.eval()\n",
    "    \n",
    "    # Forward pass\n",
    "    with torch.no_grad():  # Ensure no gradients are computed during evaluation\n",
    "        predictions = model(x)\n",
    "    \n",
    "    # Calculate the loss\n",
    "    loss = loss_func(predictions, y)\n",
    "    \n",
    "    return loss.item()  # Return the current loss as a float\n"
   ]
  },
  {
   "cell_type": "markdown",
   "metadata": {},
   "source": [
    "5. Combine the above functions to train a polynomial regression model with degree 3. The cell should instantiate a model, optimizer, and loss function, then iterate `n_epochs` many times over data to optimize the model. To ease optimization, use the `torch.optim.Adam` optimizer with `lr=5e-3`. To see whether you are overfitting, you can check the validation loss on `x_val, y_val` from time to time.\n",
    "\n",
    "6. Name three hyperparameters you use in your code."
   ]
  },
  {
   "cell_type": "code",
   "execution_count": 123,
   "metadata": {
    "ExecuteTime": {
     "end_time": "2023-11-02T09:36:56.550420800Z",
     "start_time": "2023-11-02T09:36:56.431618300Z"
    }
   },
   "outputs": [
    {
     "ename": "RuntimeError",
     "evalue": "The size of tensor a (3) must match the size of tensor b (10) at non-singleton dimension 0",
     "output_type": "error",
     "traceback": [
      "\u001B[1;31m---------------------------------------------------------------------------\u001B[0m",
      "\u001B[1;31mRuntimeError\u001B[0m                              Traceback (most recent call last)",
      "Cell \u001B[1;32mIn[123], line 24\u001B[0m\n\u001B[0;32m     21\u001B[0m \u001B[38;5;28;01mfor\u001B[39;00m epoch \u001B[38;5;129;01min\u001B[39;00m \u001B[38;5;28mrange\u001B[39m(n_epochs):\n\u001B[0;32m     22\u001B[0m     \u001B[38;5;66;03m# Training phase\u001B[39;00m\n\u001B[0;32m     23\u001B[0m     model\u001B[38;5;241m.\u001B[39mtrain()\n\u001B[1;32m---> 24\u001B[0m     current_loss \u001B[38;5;241m=\u001B[39m \u001B[43mtrain_one_epoch\u001B[49m\u001B[43m(\u001B[49m\u001B[43mx\u001B[49m\u001B[43m,\u001B[49m\u001B[43m \u001B[49m\u001B[43my\u001B[49m\u001B[43m,\u001B[49m\u001B[43m \u001B[49m\u001B[43mmodel\u001B[49m\u001B[43m,\u001B[49m\u001B[43m \u001B[49m\u001B[43moptimizer\u001B[49m\u001B[43m,\u001B[49m\u001B[43m \u001B[49m\u001B[43mloss_func\u001B[49m\u001B[43m)\u001B[49m\n\u001B[0;32m     26\u001B[0m     \u001B[38;5;66;03m# Validation phase (optional, check validation loss from time to time)\u001B[39;00m\n\u001B[0;32m     27\u001B[0m     \u001B[38;5;28;01mif\u001B[39;00m (epoch \u001B[38;5;241m+\u001B[39m \u001B[38;5;241m1\u001B[39m) \u001B[38;5;241m%\u001B[39m \u001B[38;5;241m10\u001B[39m \u001B[38;5;241m==\u001B[39m \u001B[38;5;241m0\u001B[39m:\n",
      "Cell \u001B[1;32mIn[121], line 9\u001B[0m, in \u001B[0;36mtrain_one_epoch\u001B[1;34m(x, y, model, optimizer, loss_func)\u001B[0m\n\u001B[0;32m      6\u001B[0m predictions \u001B[38;5;241m=\u001B[39m model(x)\n\u001B[0;32m      8\u001B[0m \u001B[38;5;66;03m# Calculate the loss\u001B[39;00m\n\u001B[1;32m----> 9\u001B[0m loss \u001B[38;5;241m=\u001B[39m \u001B[43mloss_func\u001B[49m\u001B[43m(\u001B[49m\u001B[43mpredictions\u001B[49m\u001B[43m,\u001B[49m\u001B[43m \u001B[49m\u001B[43my\u001B[49m\u001B[43m)\u001B[49m\n\u001B[0;32m     11\u001B[0m \u001B[38;5;66;03m# Backpropagation\u001B[39;00m\n\u001B[0;32m     12\u001B[0m optimizer\u001B[38;5;241m.\u001B[39mzero_grad()\n",
      "File \u001B[1;32m~\\AppData\\Local\\Programs\\Python\\Python310\\lib\\site-packages\\torch\\nn\\modules\\module.py:1518\u001B[0m, in \u001B[0;36mModule._wrapped_call_impl\u001B[1;34m(self, *args, **kwargs)\u001B[0m\n\u001B[0;32m   1516\u001B[0m     \u001B[38;5;28;01mreturn\u001B[39;00m \u001B[38;5;28mself\u001B[39m\u001B[38;5;241m.\u001B[39m_compiled_call_impl(\u001B[38;5;241m*\u001B[39margs, \u001B[38;5;241m*\u001B[39m\u001B[38;5;241m*\u001B[39mkwargs)  \u001B[38;5;66;03m# type: ignore[misc]\u001B[39;00m\n\u001B[0;32m   1517\u001B[0m \u001B[38;5;28;01melse\u001B[39;00m:\n\u001B[1;32m-> 1518\u001B[0m     \u001B[38;5;28;01mreturn\u001B[39;00m \u001B[38;5;28mself\u001B[39m\u001B[38;5;241m.\u001B[39m_call_impl(\u001B[38;5;241m*\u001B[39margs, \u001B[38;5;241m*\u001B[39m\u001B[38;5;241m*\u001B[39mkwargs)\n",
      "File \u001B[1;32m~\\AppData\\Local\\Programs\\Python\\Python310\\lib\\site-packages\\torch\\nn\\modules\\module.py:1527\u001B[0m, in \u001B[0;36mModule._call_impl\u001B[1;34m(self, *args, **kwargs)\u001B[0m\n\u001B[0;32m   1522\u001B[0m \u001B[38;5;66;03m# If we don't have any hooks, we want to skip the rest of the logic in\u001B[39;00m\n\u001B[0;32m   1523\u001B[0m \u001B[38;5;66;03m# this function, and just call forward.\u001B[39;00m\n\u001B[0;32m   1524\u001B[0m \u001B[38;5;28;01mif\u001B[39;00m \u001B[38;5;129;01mnot\u001B[39;00m (\u001B[38;5;28mself\u001B[39m\u001B[38;5;241m.\u001B[39m_backward_hooks \u001B[38;5;129;01mor\u001B[39;00m \u001B[38;5;28mself\u001B[39m\u001B[38;5;241m.\u001B[39m_backward_pre_hooks \u001B[38;5;129;01mor\u001B[39;00m \u001B[38;5;28mself\u001B[39m\u001B[38;5;241m.\u001B[39m_forward_hooks \u001B[38;5;129;01mor\u001B[39;00m \u001B[38;5;28mself\u001B[39m\u001B[38;5;241m.\u001B[39m_forward_pre_hooks\n\u001B[0;32m   1525\u001B[0m         \u001B[38;5;129;01mor\u001B[39;00m _global_backward_pre_hooks \u001B[38;5;129;01mor\u001B[39;00m _global_backward_hooks\n\u001B[0;32m   1526\u001B[0m         \u001B[38;5;129;01mor\u001B[39;00m _global_forward_hooks \u001B[38;5;129;01mor\u001B[39;00m _global_forward_pre_hooks):\n\u001B[1;32m-> 1527\u001B[0m     \u001B[38;5;28;01mreturn\u001B[39;00m forward_call(\u001B[38;5;241m*\u001B[39margs, \u001B[38;5;241m*\u001B[39m\u001B[38;5;241m*\u001B[39mkwargs)\n\u001B[0;32m   1529\u001B[0m \u001B[38;5;28;01mtry\u001B[39;00m:\n\u001B[0;32m   1530\u001B[0m     result \u001B[38;5;241m=\u001B[39m \u001B[38;5;28;01mNone\u001B[39;00m\n",
      "File \u001B[1;32m~\\AppData\\Local\\Programs\\Python\\Python310\\lib\\site-packages\\torch\\nn\\modules\\loss.py:535\u001B[0m, in \u001B[0;36mMSELoss.forward\u001B[1;34m(self, input, target)\u001B[0m\n\u001B[0;32m    534\u001B[0m \u001B[38;5;28;01mdef\u001B[39;00m \u001B[38;5;21mforward\u001B[39m(\u001B[38;5;28mself\u001B[39m, \u001B[38;5;28minput\u001B[39m: Tensor, target: Tensor) \u001B[38;5;241m-\u001B[39m\u001B[38;5;241m>\u001B[39m Tensor:\n\u001B[1;32m--> 535\u001B[0m     \u001B[38;5;28;01mreturn\u001B[39;00m \u001B[43mF\u001B[49m\u001B[38;5;241;43m.\u001B[39;49m\u001B[43mmse_loss\u001B[49m\u001B[43m(\u001B[49m\u001B[38;5;28;43minput\u001B[39;49m\u001B[43m,\u001B[49m\u001B[43m \u001B[49m\u001B[43mtarget\u001B[49m\u001B[43m,\u001B[49m\u001B[43m \u001B[49m\u001B[43mreduction\u001B[49m\u001B[38;5;241;43m=\u001B[39;49m\u001B[38;5;28;43mself\u001B[39;49m\u001B[38;5;241;43m.\u001B[39;49m\u001B[43mreduction\u001B[49m\u001B[43m)\u001B[49m\n",
      "File \u001B[1;32m~\\AppData\\Local\\Programs\\Python\\Python310\\lib\\site-packages\\torch\\nn\\functional.py:3328\u001B[0m, in \u001B[0;36mmse_loss\u001B[1;34m(input, target, size_average, reduce, reduction)\u001B[0m\n\u001B[0;32m   3325\u001B[0m \u001B[38;5;28;01mif\u001B[39;00m size_average \u001B[38;5;129;01mis\u001B[39;00m \u001B[38;5;129;01mnot\u001B[39;00m \u001B[38;5;28;01mNone\u001B[39;00m \u001B[38;5;129;01mor\u001B[39;00m reduce \u001B[38;5;129;01mis\u001B[39;00m \u001B[38;5;129;01mnot\u001B[39;00m \u001B[38;5;28;01mNone\u001B[39;00m:\n\u001B[0;32m   3326\u001B[0m     reduction \u001B[38;5;241m=\u001B[39m _Reduction\u001B[38;5;241m.\u001B[39mlegacy_get_string(size_average, reduce)\n\u001B[1;32m-> 3328\u001B[0m expanded_input, expanded_target \u001B[38;5;241m=\u001B[39m \u001B[43mtorch\u001B[49m\u001B[38;5;241;43m.\u001B[39;49m\u001B[43mbroadcast_tensors\u001B[49m\u001B[43m(\u001B[49m\u001B[38;5;28;43minput\u001B[39;49m\u001B[43m,\u001B[49m\u001B[43m \u001B[49m\u001B[43mtarget\u001B[49m\u001B[43m)\u001B[49m\n\u001B[0;32m   3329\u001B[0m \u001B[38;5;28;01mreturn\u001B[39;00m torch\u001B[38;5;241m.\u001B[39m_C\u001B[38;5;241m.\u001B[39m_nn\u001B[38;5;241m.\u001B[39mmse_loss(expanded_input, expanded_target, _Reduction\u001B[38;5;241m.\u001B[39mget_enum(reduction))\n",
      "File \u001B[1;32m~\\AppData\\Local\\Programs\\Python\\Python310\\lib\\site-packages\\torch\\functional.py:73\u001B[0m, in \u001B[0;36mbroadcast_tensors\u001B[1;34m(*tensors)\u001B[0m\n\u001B[0;32m     71\u001B[0m \u001B[38;5;28;01mif\u001B[39;00m has_torch_function(tensors):\n\u001B[0;32m     72\u001B[0m     \u001B[38;5;28;01mreturn\u001B[39;00m handle_torch_function(broadcast_tensors, tensors, \u001B[38;5;241m*\u001B[39mtensors)\n\u001B[1;32m---> 73\u001B[0m \u001B[38;5;28;01mreturn\u001B[39;00m \u001B[43m_VF\u001B[49m\u001B[38;5;241;43m.\u001B[39;49m\u001B[43mbroadcast_tensors\u001B[49m\u001B[43m(\u001B[49m\u001B[43mtensors\u001B[49m\u001B[43m)\u001B[49m\n",
      "\u001B[1;31mRuntimeError\u001B[0m: The size of tensor a (3) must match the size of tensor b (10) at non-singleton dimension 0"
     ]
    }
   ],
   "source": [
    "# Set a fixed random seed for reproducibility\n",
    "torch.manual_seed(123)\n",
    "\n",
    "# Define your training and validation data with the same number of features\n",
    "# Assuming you have defined 'x', 'y', 'x_val', and 'y_val' correctly\n",
    "\n",
    "# Hyperparameters\n",
    "n_epochs = 100\n",
    "learning_rate = 5e-3\n",
    "\n",
    "# Create a PolyRegression model with a polynomial degree of 3\n",
    "model = PolyRegression(3)\n",
    "\n",
    "# Define the loss function (Mean Squared Error)\n",
    "loss_func = nn.MSELoss()\n",
    "\n",
    "# Define the optimizer (Adam optimizer with a learning rate)\n",
    "optimizer = optim.Adam(model.parameters(), lr=learning_rate)\n",
    "\n",
    "# Training loop\n",
    "for epoch in range(n_epochs):\n",
    "    # Training phase\n",
    "    model.train()\n",
    "    current_loss = train_one_epoch(x, y, model, optimizer, loss_func)\n",
    "\n",
    "    # Validation phase (optional, check validation loss from time to time)\n",
    "    if (epoch + 1) % 10 == 0:\n",
    "        validation_loss = eval(x_val, y_val, model, loss_func)\n",
    "        print(f\"Epoch [{epoch + 1}/{n_epochs}] - Training Loss: {current_loss:.4f} - Validation Loss: {validation_loss:.4f}\")\n",
    "    else:\n",
    "        print(f\"Epoch [{epoch + 1}/{n_epochs}] - Training Loss: {current_loss:.4f}\")\n",
    "\n",
    "# After training, you can use the trained model for predictions\n",
    "# For example, you can use the model to predict 'y_pred' from 'x' with: y_pred = model(x)\n"
   ]
  },
  {
   "cell_type": "markdown",
   "metadata": {},
   "source": [
    "7. Visualize the resulting model with the following cell."
   ]
  },
  {
   "cell_type": "code",
   "execution_count": null,
   "metadata": {
    "ExecuteTime": {
     "start_time": "2023-11-02T09:36:56.507826300Z"
    }
   },
   "outputs": [],
   "source": [
    "fig, ax = plt.subplots()\n",
    "ax.scatter(x.view(-1), y.view(-1), color=\"blue\", label=\"Training data\")\n",
    "ax.scatter(x_val.view(-1), y_val.view(-1), color=\"orange\", label=\"Validation data\")\n",
    "\n",
    "with torch.no_grad():\n",
    "    x_plot = torch.linspace(x.min().item(), x.max().item(), 100).view(-1, 1)\n",
    "    pred_plot = model(x_plot)\n",
    "    ax.plot(x_plot, pred_plot, label=\"Model prediction\", color=\"red\")\n",
    "\n",
    "ax.legend()"
   ]
  },
  {
   "cell_type": "markdown",
   "metadata": {},
   "source": [
    "8. Revisit the model training.\n",
    "    1. Try to train a model with much higher degree of the polynomial. You may need to change the number of epochs and the learning rate of the optimizer. How does the fit compare to the fit of the model with order 3?\n",
    "    2. What happens if you train a model with degree 1 or 2? Are you over or underfitting; why?\n",
    "\n",
    "9. How would you classify this task in the scheme of slide 6 in deck 2?"
   ]
  }
 ],
 "metadata": {
  "kernelspec": {
   "display_name": "idl21",
   "language": "python",
   "name": "python3"
  },
  "language_info": {
   "codemirror_mode": {
    "name": "ipython",
    "version": 3
   },
   "file_extension": ".py",
   "mimetype": "text/x-python",
   "name": "python",
   "nbconvert_exporter": "python",
   "pygments_lexer": "ipython3",
   "version": "3.9.7"
  }
 },
 "nbformat": 4,
 "nbformat_minor": 2
}
